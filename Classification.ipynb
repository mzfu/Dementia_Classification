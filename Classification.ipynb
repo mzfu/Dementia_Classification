{
 "cells": [
  {
   "cell_type": "markdown",
   "metadata": {},
   "source": [
    "# Dementia classification w/ machine learning methods"
   ]
  },
  {
   "cell_type": "markdown",
   "metadata": {},
   "source": [
    "Updated date: 3/14/2021"
   ]
  },
  {
   "cell_type": "code",
   "execution_count": 1,
   "metadata": {},
   "outputs": [],
   "source": [
    "# Filter all warnings.\n",
    "import warnings\n",
    "warnings.filterwarnings('ignore')"
   ]
  },
  {
   "cell_type": "code",
   "execution_count": 2,
   "metadata": {},
   "outputs": [],
   "source": [
    "# Import useful modules/packages\n",
    "import numpy as np\n",
    "import pandas as pd\n",
    "import matplotlib.pyplot as plt\n",
    "import seaborn as sns\n",
    "from sklearn.metrics import plot_confusion_matrix\n",
    "\n",
    "RANDOM_STATE = 2021\n",
    "# Evaluation metrics\n",
    "scoring_ = 'f1_weighted'"
   ]
  },
  {
   "cell_type": "code",
   "execution_count": 3,
   "metadata": {},
   "outputs": [
    {
     "data": {
      "text/html": [
       "<div>\n",
       "<style scoped>\n",
       "    .dataframe tbody tr th:only-of-type {\n",
       "        vertical-align: middle;\n",
       "    }\n",
       "\n",
       "    .dataframe tbody tr th {\n",
       "        vertical-align: top;\n",
       "    }\n",
       "\n",
       "    .dataframe thead th {\n",
       "        text-align: right;\n",
       "    }\n",
       "</style>\n",
       "<table border=\"1\" class=\"dataframe\">\n",
       "  <thead>\n",
       "    <tr style=\"text-align: right;\">\n",
       "      <th></th>\n",
       "      <th>AD_gold</th>\n",
       "      <th>RACE_SELF</th>\n",
       "      <th>SCHLYRS</th>\n",
       "      <th>AGE</th>\n",
       "      <th>SEX</th>\n",
       "      <th>LIVING</th>\n",
       "      <th>SMOKE</th>\n",
       "      <th>SER7</th>\n",
       "      <th>PROXY</th>\n",
       "      <th>SHLT</th>\n",
       "      <th>...</th>\n",
       "      <th>AD_langa</th>\n",
       "      <th>MSTAT</th>\n",
       "      <th>HIBP</th>\n",
       "      <th>DIAB</th>\n",
       "      <th>CANCR</th>\n",
       "      <th>LUNG</th>\n",
       "      <th>HEART</th>\n",
       "      <th>STROK</th>\n",
       "      <th>PSYCH</th>\n",
       "      <th>ARTHR</th>\n",
       "    </tr>\n",
       "  </thead>\n",
       "  <tbody>\n",
       "    <tr>\n",
       "      <th>0</th>\n",
       "      <td>0</td>\n",
       "      <td>0</td>\n",
       "      <td>17</td>\n",
       "      <td>74</td>\n",
       "      <td>0</td>\n",
       "      <td>0</td>\n",
       "      <td>0</td>\n",
       "      <td>5</td>\n",
       "      <td>0</td>\n",
       "      <td>1</td>\n",
       "      <td>...</td>\n",
       "      <td>0</td>\n",
       "      <td>0</td>\n",
       "      <td>0</td>\n",
       "      <td>0</td>\n",
       "      <td>0</td>\n",
       "      <td>0</td>\n",
       "      <td>0</td>\n",
       "      <td>0</td>\n",
       "      <td>0</td>\n",
       "      <td>0</td>\n",
       "    </tr>\n",
       "    <tr>\n",
       "      <th>1</th>\n",
       "      <td>0</td>\n",
       "      <td>0</td>\n",
       "      <td>17</td>\n",
       "      <td>80</td>\n",
       "      <td>0</td>\n",
       "      <td>0</td>\n",
       "      <td>0</td>\n",
       "      <td>4</td>\n",
       "      <td>0</td>\n",
       "      <td>2</td>\n",
       "      <td>...</td>\n",
       "      <td>0</td>\n",
       "      <td>0</td>\n",
       "      <td>0</td>\n",
       "      <td>0</td>\n",
       "      <td>0</td>\n",
       "      <td>0</td>\n",
       "      <td>1</td>\n",
       "      <td>0</td>\n",
       "      <td>0</td>\n",
       "      <td>0</td>\n",
       "    </tr>\n",
       "    <tr>\n",
       "      <th>2</th>\n",
       "      <td>0</td>\n",
       "      <td>0</td>\n",
       "      <td>17</td>\n",
       "      <td>82</td>\n",
       "      <td>0</td>\n",
       "      <td>0</td>\n",
       "      <td>0</td>\n",
       "      <td>3</td>\n",
       "      <td>0</td>\n",
       "      <td>2</td>\n",
       "      <td>...</td>\n",
       "      <td>0</td>\n",
       "      <td>0</td>\n",
       "      <td>0</td>\n",
       "      <td>0</td>\n",
       "      <td>0</td>\n",
       "      <td>0</td>\n",
       "      <td>1</td>\n",
       "      <td>0</td>\n",
       "      <td>0</td>\n",
       "      <td>0</td>\n",
       "    </tr>\n",
       "    <tr>\n",
       "      <th>3</th>\n",
       "      <td>1</td>\n",
       "      <td>0</td>\n",
       "      <td>6</td>\n",
       "      <td>71</td>\n",
       "      <td>0</td>\n",
       "      <td>0</td>\n",
       "      <td>1</td>\n",
       "      <td>0</td>\n",
       "      <td>0</td>\n",
       "      <td>3</td>\n",
       "      <td>...</td>\n",
       "      <td>2</td>\n",
       "      <td>0</td>\n",
       "      <td>0</td>\n",
       "      <td>1</td>\n",
       "      <td>0</td>\n",
       "      <td>0</td>\n",
       "      <td>0</td>\n",
       "      <td>0</td>\n",
       "      <td>0</td>\n",
       "      <td>0</td>\n",
       "    </tr>\n",
       "    <tr>\n",
       "      <th>4</th>\n",
       "      <td>1</td>\n",
       "      <td>0</td>\n",
       "      <td>6</td>\n",
       "      <td>73</td>\n",
       "      <td>0</td>\n",
       "      <td>0</td>\n",
       "      <td>1</td>\n",
       "      <td>0</td>\n",
       "      <td>0</td>\n",
       "      <td>4</td>\n",
       "      <td>...</td>\n",
       "      <td>2</td>\n",
       "      <td>0</td>\n",
       "      <td>1</td>\n",
       "      <td>1</td>\n",
       "      <td>0</td>\n",
       "      <td>0</td>\n",
       "      <td>0</td>\n",
       "      <td>0</td>\n",
       "      <td>0</td>\n",
       "      <td>0</td>\n",
       "    </tr>\n",
       "  </tbody>\n",
       "</table>\n",
       "<p>5 rows × 47 columns</p>\n",
       "</div>"
      ],
      "text/plain": [
       "   AD_gold  RACE_SELF  SCHLYRS  AGE  SEX  LIVING  SMOKE  SER7  PROXY  SHLT  \\\n",
       "0        0          0       17   74    0       0      0     5      0     1   \n",
       "1        0          0       17   80    0       0      0     4      0     2   \n",
       "2        0          0       17   82    0       0      0     3      0     2   \n",
       "3        1          0        6   71    0       0      1     0      0     3   \n",
       "4        1          0        6   73    0       0      1     0      0     4   \n",
       "\n",
       "   ...  AD_langa  MSTAT  HIBP  DIAB  CANCR  LUNG  HEART  STROK  PSYCH  ARTHR  \n",
       "0  ...         0      0     0     0      0     0      0      0      0      0  \n",
       "1  ...         0      0     0     0      0     0      1      0      0      0  \n",
       "2  ...         0      0     0     0      0     0      1      0      0      0  \n",
       "3  ...         2      0     0     1      0     0      0      0      0      0  \n",
       "4  ...         2      0     1     1      0     0      0      0      0      0  \n",
       "\n",
       "[5 rows x 47 columns]"
      ]
     },
     "execution_count": 3,
     "metadata": {},
     "output_type": "execute_result"
    }
   ],
   "source": [
    "# Read in data (output from R -- here we start from self-respondents)\n",
    "self_train = pd.read_csv(\"/home/mingzhoufu/Dementia_classification/self_train.csv\")\n",
    "self_test = pd.read_csv(\"/home/mingzhoufu/Dementia_classification/self_test.csv\")\n",
    "self_train.head()"
   ]
  },
  {
   "cell_type": "markdown",
   "metadata": {},
   "source": [
    "## Data wrangling w/ training and testing datasets"
   ]
  },
  {
   "cell_type": "markdown",
   "metadata": {},
   "source": [
    "### 1) Training sample"
   ]
  },
  {
   "cell_type": "code",
   "execution_count": 4,
   "metadata": {},
   "outputs": [
    {
     "data": {
      "text/plain": [
       "((1094, 45), (1094,))"
      ]
     },
     "execution_count": 4,
     "metadata": {},
     "output_type": "execute_result"
    }
   ],
   "source": [
    "X = self_train.drop(['AD_gold', 'AD_langa'], axis = 1)\n",
    "y = self_train['AD_gold']\n",
    "X.shape, y.shape"
   ]
  },
  {
   "cell_type": "code",
   "execution_count": 5,
   "metadata": {},
   "outputs": [],
   "source": [
    "# Get dummy variables for categorical variables -- most of the models need dummy variablesa\n",
    "# categories = ['RACE_SELF', 'hrs_wave_near']\n",
    "# categorical = pd.get_dummies(X[categories], dummy_na = False)\n",
    "# continuous = X.drop(columns = categories)\n",
    "# X = pd.concat([continuous, categorical], axis = 1)\n",
    "# X.head()"
   ]
  },
  {
   "cell_type": "markdown",
   "metadata": {},
   "source": [
    "### 2) Testing sample (independent)"
   ]
  },
  {
   "cell_type": "code",
   "execution_count": 6,
   "metadata": {},
   "outputs": [
    {
     "data": {
      "text/plain": [
       "((262, 45), (262,))"
      ]
     },
     "execution_count": 6,
     "metadata": {},
     "output_type": "execute_result"
    }
   ],
   "source": [
    "X_test = self_test.drop(['AD_gold', 'AD_langa'], axis = 1)\n",
    "y_test = self_test['AD_gold']\n",
    "X_test.shape, y_test.shape"
   ]
  },
  {
   "cell_type": "code",
   "execution_count": 7,
   "metadata": {},
   "outputs": [],
   "source": [
    "# Get dummy variables for categorical variables\n",
    "# categories = ['RACE_SELF', 'hrs_wave_near']\n",
    "# categorical = pd.get_dummies(X_test[categories], dummy_na = False)\n",
    "# continuous = X_test.drop(columns = categories)\n",
    "# X_test = pd.concat([continuous, categorical], axis = 1)\n",
    "# X_test.head()"
   ]
  },
  {
   "cell_type": "markdown",
   "metadata": {},
   "source": [
    "### 3) Also we need to deal with scaling - feature normalization (for regularized regression, k-NN, SVM, etc.) -- faster convergence in learning, more uniform or \"fair\" influence for all weights"
   ]
  },
  {
   "cell_type": "code",
   "execution_count": 8,
   "metadata": {},
   "outputs": [],
   "source": [
    "from sklearn.preprocessing import StandardScaler\n",
    "# Import standard scaler -- mean = 0, sd = 1\n",
    "scaler = StandardScaler()\n",
    "columns = X.columns\n",
    "standardized_X = X.copy()\n",
    "standardized_X_test = X_test.copy()\n",
    "# Standardize the testing sample based on the training sample\n",
    "standardized_X[columns] = scaler.fit_transform(X[columns])\n",
    "standardized_X_test[columns] = scaler.transform(X_test[columns])"
   ]
  },
  {
   "cell_type": "code",
   "execution_count": 9,
   "metadata": {},
   "outputs": [
    {
     "data": {
      "text/html": [
       "<div>\n",
       "<style scoped>\n",
       "    .dataframe tbody tr th:only-of-type {\n",
       "        vertical-align: middle;\n",
       "    }\n",
       "\n",
       "    .dataframe tbody tr th {\n",
       "        vertical-align: top;\n",
       "    }\n",
       "\n",
       "    .dataframe thead th {\n",
       "        text-align: right;\n",
       "    }\n",
       "</style>\n",
       "<table border=\"1\" class=\"dataframe\">\n",
       "  <thead>\n",
       "    <tr style=\"text-align: right;\">\n",
       "      <th></th>\n",
       "      <th>RACE_SELF</th>\n",
       "      <th>SCHLYRS</th>\n",
       "      <th>AGE</th>\n",
       "      <th>SEX</th>\n",
       "      <th>LIVING</th>\n",
       "      <th>SMOKE</th>\n",
       "      <th>SER7</th>\n",
       "      <th>PROXY</th>\n",
       "      <th>SHLT</th>\n",
       "      <th>HLTC</th>\n",
       "      <th>...</th>\n",
       "      <th>VP</th>\n",
       "      <th>MSTAT</th>\n",
       "      <th>HIBP</th>\n",
       "      <th>DIAB</th>\n",
       "      <th>CANCR</th>\n",
       "      <th>LUNG</th>\n",
       "      <th>HEART</th>\n",
       "      <th>STROK</th>\n",
       "      <th>PSYCH</th>\n",
       "      <th>ARTHR</th>\n",
       "    </tr>\n",
       "  </thead>\n",
       "  <tbody>\n",
       "    <tr>\n",
       "      <th>0</th>\n",
       "      <td>-0.481645</td>\n",
       "      <td>1.480678</td>\n",
       "      <td>-1.424097</td>\n",
       "      <td>-1.116426</td>\n",
       "      <td>-1.007473</td>\n",
       "      <td>-0.996360</td>\n",
       "      <td>1.188984</td>\n",
       "      <td>0.0</td>\n",
       "      <td>-2.045762</td>\n",
       "      <td>-0.373313</td>\n",
       "      <td>...</td>\n",
       "      <td>0.927655</td>\n",
       "      <td>-1.171794</td>\n",
       "      <td>-1.433829</td>\n",
       "      <td>-0.542839</td>\n",
       "      <td>-0.545661</td>\n",
       "      <td>-0.370424</td>\n",
       "      <td>-0.807817</td>\n",
       "      <td>-0.430425</td>\n",
       "      <td>-0.467186</td>\n",
       "      <td>-1.645744</td>\n",
       "    </tr>\n",
       "    <tr>\n",
       "      <th>1</th>\n",
       "      <td>-0.481645</td>\n",
       "      <td>1.480678</td>\n",
       "      <td>-0.452395</td>\n",
       "      <td>-1.116426</td>\n",
       "      <td>-1.007473</td>\n",
       "      <td>-0.996360</td>\n",
       "      <td>0.680879</td>\n",
       "      <td>0.0</td>\n",
       "      <td>-1.114012</td>\n",
       "      <td>-0.373313</td>\n",
       "      <td>...</td>\n",
       "      <td>0.927655</td>\n",
       "      <td>-1.171794</td>\n",
       "      <td>-1.433829</td>\n",
       "      <td>-0.542839</td>\n",
       "      <td>-0.545661</td>\n",
       "      <td>-0.370424</td>\n",
       "      <td>1.237904</td>\n",
       "      <td>-0.430425</td>\n",
       "      <td>-0.467186</td>\n",
       "      <td>-1.645744</td>\n",
       "    </tr>\n",
       "    <tr>\n",
       "      <th>2</th>\n",
       "      <td>-0.481645</td>\n",
       "      <td>1.480678</td>\n",
       "      <td>-0.128494</td>\n",
       "      <td>-1.116426</td>\n",
       "      <td>-1.007473</td>\n",
       "      <td>-0.996360</td>\n",
       "      <td>0.172774</td>\n",
       "      <td>0.0</td>\n",
       "      <td>-1.114012</td>\n",
       "      <td>-0.373313</td>\n",
       "      <td>...</td>\n",
       "      <td>0.927655</td>\n",
       "      <td>-1.171794</td>\n",
       "      <td>-1.433829</td>\n",
       "      <td>-0.542839</td>\n",
       "      <td>-0.545661</td>\n",
       "      <td>-0.370424</td>\n",
       "      <td>1.237904</td>\n",
       "      <td>-0.430425</td>\n",
       "      <td>-0.467186</td>\n",
       "      <td>-1.645744</td>\n",
       "    </tr>\n",
       "    <tr>\n",
       "      <th>3</th>\n",
       "      <td>-0.481645</td>\n",
       "      <td>-1.166548</td>\n",
       "      <td>-1.909948</td>\n",
       "      <td>-1.116426</td>\n",
       "      <td>-1.007473</td>\n",
       "      <td>0.675446</td>\n",
       "      <td>-1.351541</td>\n",
       "      <td>0.0</td>\n",
       "      <td>-0.182262</td>\n",
       "      <td>-0.373313</td>\n",
       "      <td>...</td>\n",
       "      <td>-1.077987</td>\n",
       "      <td>-1.171794</td>\n",
       "      <td>-1.433829</td>\n",
       "      <td>1.842166</td>\n",
       "      <td>-0.545661</td>\n",
       "      <td>-0.370424</td>\n",
       "      <td>-0.807817</td>\n",
       "      <td>-0.430425</td>\n",
       "      <td>-0.467186</td>\n",
       "      <td>-1.645744</td>\n",
       "    </tr>\n",
       "    <tr>\n",
       "      <th>4</th>\n",
       "      <td>-0.481645</td>\n",
       "      <td>-1.166548</td>\n",
       "      <td>-1.586047</td>\n",
       "      <td>-1.116426</td>\n",
       "      <td>-1.007473</td>\n",
       "      <td>0.675446</td>\n",
       "      <td>-1.351541</td>\n",
       "      <td>0.0</td>\n",
       "      <td>0.749488</td>\n",
       "      <td>-0.373313</td>\n",
       "      <td>...</td>\n",
       "      <td>0.927655</td>\n",
       "      <td>-1.171794</td>\n",
       "      <td>0.697433</td>\n",
       "      <td>1.842166</td>\n",
       "      <td>-0.545661</td>\n",
       "      <td>-0.370424</td>\n",
       "      <td>-0.807817</td>\n",
       "      <td>-0.430425</td>\n",
       "      <td>-0.467186</td>\n",
       "      <td>-1.645744</td>\n",
       "    </tr>\n",
       "  </tbody>\n",
       "</table>\n",
       "<p>5 rows × 45 columns</p>\n",
       "</div>"
      ],
      "text/plain": [
       "   RACE_SELF   SCHLYRS       AGE       SEX    LIVING     SMOKE      SER7  \\\n",
       "0  -0.481645  1.480678 -1.424097 -1.116426 -1.007473 -0.996360  1.188984   \n",
       "1  -0.481645  1.480678 -0.452395 -1.116426 -1.007473 -0.996360  0.680879   \n",
       "2  -0.481645  1.480678 -0.128494 -1.116426 -1.007473 -0.996360  0.172774   \n",
       "3  -0.481645 -1.166548 -1.909948 -1.116426 -1.007473  0.675446 -1.351541   \n",
       "4  -0.481645 -1.166548 -1.586047 -1.116426 -1.007473  0.675446 -1.351541   \n",
       "\n",
       "   PROXY      SHLT      HLTC  ...        VP     MSTAT      HIBP      DIAB  \\\n",
       "0    0.0 -2.045762 -0.373313  ...  0.927655 -1.171794 -1.433829 -0.542839   \n",
       "1    0.0 -1.114012 -0.373313  ...  0.927655 -1.171794 -1.433829 -0.542839   \n",
       "2    0.0 -1.114012 -0.373313  ...  0.927655 -1.171794 -1.433829 -0.542839   \n",
       "3    0.0 -0.182262 -0.373313  ... -1.077987 -1.171794 -1.433829  1.842166   \n",
       "4    0.0  0.749488 -0.373313  ...  0.927655 -1.171794  0.697433  1.842166   \n",
       "\n",
       "      CANCR      LUNG     HEART     STROK     PSYCH     ARTHR  \n",
       "0 -0.545661 -0.370424 -0.807817 -0.430425 -0.467186 -1.645744  \n",
       "1 -0.545661 -0.370424  1.237904 -0.430425 -0.467186 -1.645744  \n",
       "2 -0.545661 -0.370424  1.237904 -0.430425 -0.467186 -1.645744  \n",
       "3 -0.545661 -0.370424 -0.807817 -0.430425 -0.467186 -1.645744  \n",
       "4 -0.545661 -0.370424 -0.807817 -0.430425 -0.467186 -1.645744  \n",
       "\n",
       "[5 rows x 45 columns]"
      ]
     },
     "execution_count": 9,
     "metadata": {},
     "output_type": "execute_result"
    }
   ],
   "source": [
    "standardized_X.head()"
   ]
  },
  {
   "cell_type": "markdown",
   "metadata": {},
   "source": [
    "# Model fitting"
   ]
  },
  {
   "cell_type": "markdown",
   "metadata": {},
   "source": [
    "We'll implement grid search cross-validation along with different modeling methods"
   ]
  },
  {
   "cell_type": "code",
   "execution_count": 10,
   "metadata": {},
   "outputs": [],
   "source": [
    "# At first, we want to create a dataframe recording all model prediction\n",
    "self_test_result = self_test.copy()"
   ]
  },
  {
   "cell_type": "code",
   "execution_count": 11,
   "metadata": {
    "scrolled": true
   },
   "outputs": [
    {
     "name": "stdout",
     "output_type": "stream",
     "text": [
      "[t-SNE] Computing 121 nearest neighbors...\n",
      "[t-SNE] Indexed 262 samples in 0.000s...\n",
      "[t-SNE] Computed neighbors for 262 samples in 0.020s...\n",
      "[t-SNE] Computed conditional probabilities for sample 262 / 262\n",
      "[t-SNE] Mean sigma: 4.819704\n",
      "[t-SNE] KL divergence after 50 iterations with early exaggeration: 95.006516\n",
      "[t-SNE] KL divergence after 1000 iterations: 0.417586\n"
     ]
    }
   ],
   "source": [
    "from sklearn.manifold import TSNE\n",
    "\n",
    "tsne = TSNE(n_components = 2, perplexity = 40, learning_rate = 1, early_exaggeration = 20, \n",
    "            random_state = RANDOM_STATE, verbose = 1)\n",
    "tsne_results = tsne.fit_transform(X_test)\n",
    "self_test_result['TSNE1'] = tsne_results[:,0]\n",
    "self_test_result['TSNE2'] = tsne_results[:,1]"
   ]
  },
  {
   "cell_type": "code",
   "execution_count": 12,
   "metadata": {},
   "outputs": [
    {
     "data": {
      "image/png": "[encoded data removed]",
      "text/plain": [
       "<Figure size 432x288 with 1 Axes>"
      ]
     },
     "metadata": {
      "needs_background": "light"
     },
     "output_type": "display_data"
    }
   ],
   "source": [
    "dementia_indices = np.where(y_test == 2)\n",
    "# moderate_indices = np.where(y_test == 2)\n",
    "# mild_dem_indices = np.where(y_test == 2)\n",
    "# mild_impair_indices = np.where(y_test == 1)\n",
    "CIND_indices = np.where(y_test == 1)\n",
    "normal_indices = np.where(y_test == 0)\n",
    "\n",
    "#plt.figure(figsize=(6, 6))\n",
    "plt.scatter(tsne_results[normal_indices, 0], tsne_results[normal_indices, 1], label = 'Normal')\n",
    "plt.scatter(tsne_results[CIND_indices, 0], tsne_results[CIND_indices, 1], label = 'CIND')\n",
    "# plt.scatter(tsne_results[mild_impair_indices, 0], tsne_results[mild_impair_indices, 1], label = 'Mild Impairment')\n",
    "# plt.scatter(tsne_results[mild_dem_indices, 0], tsne_results[mild_dem_indices, 1], label = 'Mild Dementia')\n",
    "# plt.scatter(tsne_results[moderate_indices, 0], tsne_results[moderate_indices, 1], label = 'Moderate Dementia')\n",
    "plt.scatter(tsne_results[dementia_indices, 0], tsne_results[dementia_indices, 1], label = 'Dementia')\n",
    "\n",
    "plt.legend()\n",
    "plt.show()"
   ]
  },
  {
   "cell_type": "code",
   "execution_count": 13,
   "metadata": {},
   "outputs": [
    {
     "name": "stdout",
     "output_type": "stream",
     "text": [
      "Oringinal train dataset shape Counter({0: 496, 1: 367, 2: 231})\n",
      "Oringinal test dataset shape Counter({0: 104, 1: 81, 2: 77})\n"
     ]
    }
   ],
   "source": [
    "from collections import Counter\n",
    "\n",
    "print('Oringinal train dataset shape', Counter(y))\n",
    "print('Oringinal test dataset shape', Counter(y_test))"
   ]
  },
  {
   "cell_type": "code",
   "execution_count": 14,
   "metadata": {},
   "outputs": [],
   "source": [
    "# utility class to compare the predictions versus ground truth\n",
    "def comparePlot(input_frame, real_column, predicted_column):\n",
    "    df_a = input_frame.copy()\n",
    "    df_b = input_frame.copy()\n",
    "    df_a['label_source'] = 'Gold standard'\n",
    "    df_b['label_source'] = 'Classifier'\n",
    "    df_a['label'] = df_a[real_column]\n",
    "    df_b['label'] = df_b[predicted_column].apply(lambda x: 'Predict %s'%x)\n",
    "    df_c = pd.concat((df_a, df_b), axis = 0, ignore_index = True)\n",
    "    sns.lmplot(x = 'TSNE1', y = 'TSNE2', col = 'label_source',\n",
    "               hue = 'label', data = df_c, fit_reg = False, size = 4);"
   ]
  },
  {
   "cell_type": "markdown",
   "metadata": {},
   "source": [
    "## Benchmarking -- dummy classifier (sanity check on classifier's performance)"
   ]
  },
  {
   "cell_type": "code",
   "execution_count": 15,
   "metadata": {},
   "outputs": [
    {
     "name": "stdout",
     "output_type": "stream",
     "text": [
      "---Predicted value: [0]---\n",
      "Precision: 0.158\n",
      "Recall: 0.397\n",
      "F1: 0.226\n",
      "Accuracy: 0.397\n"
     ]
    }
   ],
   "source": [
    "from sklearn.dummy import DummyClassifier\n",
    "from sklearn.metrics import precision_recall_fscore_support, accuracy_score\n",
    "\n",
    "dummy_model = DummyClassifier(strategy = 'most_frequent', random_state = RANDOM_STATE).fit(standardized_X, y)\n",
    "dummy_test_score = precision_recall_fscore_support(y_test, dummy_model.predict(standardized_X_test), average = 'weighted')\n",
    "print(\"---Predicted value: {}---\".format(np.unique(dummy_model.predict(standardized_X_test))))\n",
    "print(\"Precision: {:.3f}\".format(dummy_test_score[0]))\n",
    "print(\"Recall: {:.3f}\".format(dummy_test_score[1]))\n",
    "print(\"F1: {:.3f}\".format(dummy_test_score[2]))\n",
    "print(\"Accuracy: {:.3f}\".format(accuracy_score(dummy_model.predict(standardized_X_test), y_test)))"
   ]
  },
  {
   "cell_type": "code",
   "execution_count": 16,
   "metadata": {},
   "outputs": [
    {
     "name": "stdout",
     "output_type": "stream",
     "text": [
      "---Predicted value: {Langa-Weir Classification}---\n",
      "Precision: 0.640\n",
      "Recall: 0.626\n",
      "F1: 0.631\n",
      "Accuracy: 0.626\n"
     ]
    }
   ],
   "source": [
    "langa_test_score = precision_recall_fscore_support(y_test, self_test['AD_langa'], average = 'weighted')\n",
    "print(\"---Predicted value: {Langa-Weir Classification}---\")\n",
    "print(\"Precision: {:.3f}\".format(langa_test_score[0]))\n",
    "print(\"Recall: {:.3f}\".format(langa_test_score[1]))\n",
    "print(\"F1: {:.3f}\".format(langa_test_score[2]))\n",
    "print(\"Accuracy: {:.3f}\".format(accuracy_score(self_test['AD_langa'], y_test)))"
   ]
  },
  {
   "cell_type": "markdown",
   "metadata": {},
   "source": [
    "## k-Nearest Neighbor (k-NN)"
   ]
  },
  {
   "cell_type": "code",
   "execution_count": 17,
   "metadata": {},
   "outputs": [
    {
     "name": "stdout",
     "output_type": "stream",
     "text": [
      "---Predicted value: [0 1 2]---\n",
      "Precision: 0.629\n",
      "Recall: 0.595\n",
      "F1: 0.588\n",
      "Accuracy: 0.595\n"
     ]
    }
   ],
   "source": [
    "from sklearn.neighbors import KNeighborsClassifier\n",
    "# Default model\n",
    "knn_model = KNeighborsClassifier().fit(standardized_X, y)\n",
    "knn_test_score = precision_recall_fscore_support(y_test, knn_model.predict(standardized_X_test), average = 'weighted')\n",
    "print(\"---Predicted value: {}---\".format(np.unique(knn_model.predict(standardized_X_test))))\n",
    "print(\"Precision: {:.3f}\".format(knn_test_score[0]))\n",
    "print(\"Recall: {:.3f}\".format(knn_test_score[1]))\n",
    "print(\"F1: {:.3f}\".format(knn_test_score[2]))\n",
    "print(\"Accuracy: {:.3f}\".format(accuracy_score(knn_model.predict(standardized_X_test), y_test)))"
   ]
  },
  {
   "cell_type": "code",
   "execution_count": 18,
   "metadata": {},
   "outputs": [
    {
     "data": {
      "text/plain": [
       "GridSearchCV(cv=5, estimator=KNeighborsClassifier(),\n",
       "             param_grid={'n_neighbors': [1, 3, 5, 7, 10],\n",
       "                         'weights': ['uniform', 'distance']},\n",
       "             scoring='f1_weighted')"
      ]
     },
     "execution_count": 18,
     "metadata": {},
     "output_type": "execute_result"
    }
   ],
   "source": [
    "# Use grid search\n",
    "from sklearn.model_selection import GridSearchCV\n",
    "parameters = {'n_neighbors': [1, 3, 5, 7, 10], 'weights': ['uniform', 'distance']}\n",
    "knn_model = KNeighborsClassifier()\n",
    "knn_grid_cv = GridSearchCV(knn_model, parameters, cv = 5, scoring = scoring_)\n",
    "knn_grid_cv.fit(standardized_X, y)"
   ]
  },
  {
   "cell_type": "code",
   "execution_count": 19,
   "metadata": {},
   "outputs": [
    {
     "name": "stdout",
     "output_type": "stream",
     "text": [
      "---Best parameters: {'n_neighbors': 5, 'weights': 'uniform'}---\n",
      "Precision: 0.629\n",
      "Recall: 0.595\n",
      "F1: 0.588\n",
      "Accuracy: 0.595\n"
     ]
    }
   ],
   "source": [
    "# get best dict\n",
    "knn_best_id = np.argmin(knn_grid_cv.cv_results_[\"rank_test_score\"])\n",
    "knn_best_dict = knn_grid_cv.cv_results_[\"params\"][knn_best_id]\n",
    "# get test_score\n",
    "knn_model = KNeighborsClassifier(**knn_best_dict).fit(standardized_X, y)\n",
    "knn_test_score = precision_recall_fscore_support(y_test, knn_model.predict(standardized_X_test), average = 'weighted')\n",
    "print(\"---Best parameters: {}---\".format(knn_best_dict))\n",
    "print(\"Precision: {:.3f}\".format(knn_test_score[0]))\n",
    "print(\"Recall: {:.3f}\".format(knn_test_score[1]))\n",
    "print(\"F1: {:.3f}\".format(knn_test_score[2]))\n",
    "print(\"Accuracy: {:.3f}\".format(accuracy_score(knn_model.predict(standardized_X_test), y_test)))"
   ]
  },
  {
   "cell_type": "code",
   "execution_count": 20,
   "metadata": {},
   "outputs": [],
   "source": [
    "knn_labels = knn_model.predict(standardized_X_test)\n",
    "self_test_result['predicted_label_knn'] = knn_labels"
   ]
  },
  {
   "cell_type": "code",
   "execution_count": 21,
   "metadata": {},
   "outputs": [
    {
     "data": {
      "image/png": "[encoded data removed]",
      "text/plain": [
       "<Figure size 432x288 with 2 Axes>"
      ]
     },
     "metadata": {
      "needs_background": "light"
     },
     "output_type": "display_data"
    }
   ],
   "source": [
    "plot_confusion_matrix(knn_model, standardized_X_test, y_test, cmap = plt.cm.Blues, normalize = \"true\")  \n",
    "plt.show() "
   ]
  },
  {
   "cell_type": "code",
   "execution_count": 22,
   "metadata": {},
   "outputs": [],
   "source": [
    "# comparePlot(self_test_result, \"AD_gold_cat2\", \"predicted_label_knn\")"
   ]
  },
  {
   "cell_type": "markdown",
   "metadata": {},
   "source": [
    "## Random forest"
   ]
  },
  {
   "cell_type": "code",
   "execution_count": 23,
   "metadata": {},
   "outputs": [
    {
     "name": "stdout",
     "output_type": "stream",
     "text": [
      "Precision: 0.718\n",
      "Recall: 0.702\n",
      "F1: 0.706\n",
      "Accuracy: 0.702\n"
     ]
    }
   ],
   "source": [
    "from sklearn.ensemble import RandomForestClassifier\n",
    "# Default model\n",
    "rf_model = RandomForestClassifier(random_state = RANDOM_STATE).fit(X, y)\n",
    "rf_test_score = precision_recall_fscore_support(y_test, rf_model.predict(X_test), average = 'weighted')\n",
    "print(\"Precision: {:.3f}\".format(rf_test_score[0]))\n",
    "print(\"Recall: {:.3f}\".format(rf_test_score[1]))\n",
    "print(\"F1: {:.3f}\".format(rf_test_score[2]))\n",
    "print(\"Accuracy: {:.3f}\".format(accuracy_score(rf_model.predict(X_test), y_test)))"
   ]
  },
  {
   "cell_type": "code",
   "execution_count": 24,
   "metadata": {},
   "outputs": [
    {
     "data": {
      "text/plain": [
       "GridSearchCV(cv=5, estimator=RandomForestClassifier(),\n",
       "             param_grid={'criterion': ['gini', 'entropy'],\n",
       "                         'max_features': [1, 5, 10, 20, 'auto'],\n",
       "                         'n_estimators': [10, 50, 100],\n",
       "                         'oob_score': [True, False]},\n",
       "             scoring='f1_weighted')"
      ]
     },
     "execution_count": 24,
     "metadata": {},
     "output_type": "execute_result"
    }
   ],
   "source": [
    "# build a random forest\n",
    "parameters = {'n_estimators': [10, 50, 100], 'max_features': [1, 5, 10, 20, 'auto'], \n",
    "              'criterion': ['gini', 'entropy'], 'oob_score': [True, False]}\n",
    "rf_model = RandomForestClassifier()\n",
    "rf_grid_cv = GridSearchCV(rf_model, parameters, cv = 5, scoring = scoring_)\n",
    "rf_grid_cv.fit(X, y)"
   ]
  },
  {
   "cell_type": "code",
   "execution_count": 25,
   "metadata": {},
   "outputs": [
    {
     "name": "stdout",
     "output_type": "stream",
     "text": [
      "---Best parameters: {'criterion': 'entropy', 'max_features': 'auto', 'n_estimators': 50, 'oob_score': False}---\n",
      "Precision: 0.688\n",
      "Recall: 0.687\n",
      "F1: 0.686\n",
      "Accuracy: 0.687\n"
     ]
    }
   ],
   "source": [
    "# get best dict\n",
    "rf_best_id = np.argmin(rf_grid_cv.cv_results_[\"rank_test_score\"])\n",
    "rf_best_dict = rf_grid_cv.cv_results_[\"params\"][rf_best_id]\n",
    "# get test_score\n",
    "rf_model = RandomForestClassifier(**rf_best_dict, random_state = RANDOM_STATE).fit(X, y)\n",
    "rf_test_score = precision_recall_fscore_support(y_test, rf_model.predict(X_test), average = 'weighted')\n",
    "print(\"---Best parameters: {}---\".format(rf_best_dict))\n",
    "print(\"Precision: {:.3f}\".format(rf_test_score[0]))\n",
    "print(\"Recall: {:.3f}\".format(rf_test_score[1]))\n",
    "print(\"F1: {:.3f}\".format(rf_test_score[2]))\n",
    "print(\"Accuracy: {:.3f}\".format(accuracy_score(rf_model.predict(X_test), y_test)))"
   ]
  },
  {
   "cell_type": "code",
   "execution_count": 26,
   "metadata": {},
   "outputs": [],
   "source": [
    "rf_model = RandomForestClassifier(random_state = RANDOM_STATE).fit(X, y)\n",
    "rf_labels = rf_model.predict(X_test)\n",
    "self_test_result['predicted_label_rf'] = rf_labels"
   ]
  },
  {
   "cell_type": "code",
   "execution_count": 27,
   "metadata": {},
   "outputs": [
    {
     "data": {
      "text/plain": [
       "{'bootstrap': True,\n",
       " 'ccp_alpha': 0.0,\n",
       " 'class_weight': None,\n",
       " 'criterion': 'gini',\n",
       " 'max_depth': None,\n",
       " 'max_features': 'auto',\n",
       " 'max_leaf_nodes': None,\n",
       " 'max_samples': None,\n",
       " 'min_impurity_decrease': 0.0,\n",
       " 'min_impurity_split': None,\n",
       " 'min_samples_leaf': 1,\n",
       " 'min_samples_split': 2,\n",
       " 'min_weight_fraction_leaf': 0.0,\n",
       " 'n_estimators': 100,\n",
       " 'n_jobs': None,\n",
       " 'oob_score': False,\n",
       " 'random_state': 2021,\n",
       " 'verbose': 0,\n",
       " 'warm_start': False}"
      ]
     },
     "execution_count": 27,
     "metadata": {},
     "output_type": "execute_result"
    }
   ],
   "source": [
    "rf_model.get_params()"
   ]
  },
  {
   "cell_type": "code",
   "execution_count": 28,
   "metadata": {},
   "outputs": [
    {
     "data": {
      "image/png": "[encoded data removed]",
      "text/plain": [
       "<Figure size 432x288 with 2 Axes>"
      ]
     },
     "metadata": {
      "needs_background": "light"
     },
     "output_type": "display_data"
    }
   ],
   "source": [
    "plot_confusion_matrix(rf_model, X_test, y_test, cmap = plt.cm.Blues, normalize = \"true\")  \n",
    "plt.show() "
   ]
  },
  {
   "cell_type": "code",
   "execution_count": 29,
   "metadata": {},
   "outputs": [],
   "source": [
    "# comparePlot(self_test_result, \"AD_gold\", \"predicted_label_rf\")"
   ]
  },
  {
   "cell_type": "code",
   "execution_count": 30,
   "metadata": {
    "scrolled": true
   },
   "outputs": [
    {
     "data": {
      "text/plain": [
       "<AxesSubplot:>"
      ]
     },
     "execution_count": 30,
     "metadata": {},
     "output_type": "execute_result"
    },
    {
     "data": {
      "image/png": "[encoded data removed]",
      "text/plain": [
       "<Figure size 2160x2160 with 1 Axes>"
      ]
     },
     "metadata": {
      "needs_background": "light"
     },
     "output_type": "display_data"
    }
   ],
   "source": [
    "# Check feature importance\n",
    "rf_feat_importance = rf_model.feature_importances_\n",
    "pd.DataFrame({'Feature Importance': rf_feat_importance},\n",
    "            index = X.columns[:]).plot(kind = 'barh', fontsize = 20, figsize = (30, 30))"
   ]
  },
  {
   "cell_type": "markdown",
   "metadata": {},
   "source": [
    "## Support Vector Machine (SVM)"
   ]
  },
  {
   "cell_type": "code",
   "execution_count": 31,
   "metadata": {},
   "outputs": [
    {
     "name": "stdout",
     "output_type": "stream",
     "text": [
      "Precision: 0.695\n",
      "Recall: 0.676\n",
      "F1: 0.682\n",
      "Accuracy: 0.676\n"
     ]
    }
   ],
   "source": [
    "from sklearn.svm import SVC\n",
    "# Default model\n",
    "svm_model = SVC(random_state = RANDOM_STATE).fit(standardized_X, y)\n",
    "svm_test_score = precision_recall_fscore_support(y_test, svm_model.predict(standardized_X_test), average = 'weighted')\n",
    "print(\"Precision: {:.3f}\".format(svm_test_score[0]))\n",
    "print(\"Recall: {:.3f}\".format(svm_test_score[1]))\n",
    "print(\"F1: {:.3f}\".format(svm_test_score[2]))\n",
    "print(\"Accuracy: {:.3f}\".format(accuracy_score(svm_model.predict(standardized_X_test), y_test)))"
   ]
  },
  {
   "cell_type": "code",
   "execution_count": 32,
   "metadata": {},
   "outputs": [
    {
     "data": {
      "text/plain": [
       "GridSearchCV(cv=5, estimator=SVC(),\n",
       "             param_grid={'C': [0.1, 1, 10, 100], 'gamma': [0.1, 1, 10, 100],\n",
       "                         'kernel': ['linear', 'rbf', 'polynomial']},\n",
       "             scoring='f1_weighted')"
      ]
     },
     "execution_count": 32,
     "metadata": {},
     "output_type": "execute_result"
    }
   ],
   "source": [
    "# apply gridsearchcv\n",
    "parameters = {'kernel': ['linear', 'rbf', 'polynomial'], 'C': [0.1, 1, 10, 100], 'gamma': [0.1, 1, 10, 100]}\n",
    "svm_model = SVC()\n",
    "svm_grid_cv = GridSearchCV(svm_model, parameters, cv = 5, scoring = scoring_)\n",
    "svm_grid_cv.fit(standardized_X, y)"
   ]
  },
  {
   "cell_type": "code",
   "execution_count": 33,
   "metadata": {},
   "outputs": [
    {
     "name": "stdout",
     "output_type": "stream",
     "text": [
      "---Best parameters: {'C': 1, 'gamma': 0.1, 'kernel': 'linear'}---\n",
      "Precision: 0.671\n",
      "Recall: 0.664\n",
      "F1: 0.666\n",
      "Accuracy: 0.664\n"
     ]
    }
   ],
   "source": [
    "# get best dict\n",
    "svm_best_id = np.argmin(svm_grid_cv.cv_results_[\"rank_test_score\"])\n",
    "svm_best_dict = svm_grid_cv.cv_results_[\"params\"][svm_best_id]\n",
    "# get test_score\n",
    "svm_model = SVC(**svm_best_dict, random_state = RANDOM_STATE).fit(standardized_X, y)\n",
    "svm_test_score = precision_recall_fscore_support(y_test, svm_model.predict(standardized_X_test), average = 'weighted')\n",
    "print(\"---Best parameters: {}---\".format(svm_best_dict))\n",
    "print(\"Precision: {:.3f}\".format(svm_test_score[0]))\n",
    "print(\"Recall: {:.3f}\".format(svm_test_score[1]))\n",
    "print(\"F1: {:.3f}\".format(svm_test_score[2]))\n",
    "print(\"Accuracy: {:.3f}\".format(accuracy_score(svm_model.predict(standardized_X_test), y_test)))"
   ]
  },
  {
   "cell_type": "code",
   "execution_count": 35,
   "metadata": {},
   "outputs": [],
   "source": [
    "svm_model = SVC(random_state = RANDOM_STATE).fit(standardized_X, y)\n",
    "svm_labels = svm_model.predict(standardized_X_test)\n",
    "self_test_result['predicted_label_svm'] = svm_labels"
   ]
  },
  {
   "cell_type": "code",
   "execution_count": 36,
   "metadata": {},
   "outputs": [
    {
     "data": {
      "text/plain": [
       "{'C': 1.0,\n",
       " 'break_ties': False,\n",
       " 'cache_size': 200,\n",
       " 'class_weight': None,\n",
       " 'coef0': 0.0,\n",
       " 'decision_function_shape': 'ovr',\n",
       " 'degree': 3,\n",
       " 'gamma': 'scale',\n",
       " 'kernel': 'rbf',\n",
       " 'max_iter': -1,\n",
       " 'probability': False,\n",
       " 'random_state': 2021,\n",
       " 'shrinking': True,\n",
       " 'tol': 0.001,\n",
       " 'verbose': False}"
      ]
     },
     "execution_count": 36,
     "metadata": {},
     "output_type": "execute_result"
    }
   ],
   "source": [
    "svm_model.get_params()"
   ]
  },
  {
   "cell_type": "code",
   "execution_count": 37,
   "metadata": {},
   "outputs": [
    {
     "data": {
      "image/png": "[encoded data removed]",
      "text/plain": [
       "<Figure size 432x288 with 2 Axes>"
      ]
     },
     "metadata": {
      "needs_background": "light"
     },
     "output_type": "display_data"
    }
   ],
   "source": [
    "plot_confusion_matrix(svm_model, standardized_X_test, y_test, cmap = plt.cm.Blues, normalize = \"true\")  \n",
    "plt.show() "
   ]
  },
  {
   "cell_type": "code",
   "execution_count": 38,
   "metadata": {},
   "outputs": [],
   "source": [
    "# comparePlot(self_test_result, \"AD_gold\", \"predicted_label_svm\")"
   ]
  },
  {
   "cell_type": "markdown",
   "metadata": {},
   "source": [
    "## Logistic regression"
   ]
  },
  {
   "cell_type": "code",
   "execution_count": 50,
   "metadata": {},
   "outputs": [
    {
     "name": "stdout",
     "output_type": "stream",
     "text": [
      "Precision: 0.672\n",
      "Recall: 0.672\n",
      "F1: 0.671\n",
      "Accuracy: 0.672\n"
     ]
    }
   ],
   "source": [
    "from sklearn.linear_model import LogisticRegression\n",
    "# Default model\n",
    "lr_model = LogisticRegression(random_state = RANDOM_STATE).fit(standardized_X, y)\n",
    "lr_test_score = precision_recall_fscore_support(y_test, lr_model.predict(standardized_X_test), average = 'weighted')\n",
    "print(\"Precision: {:.3f}\".format(lr_test_score[0]))\n",
    "print(\"Recall: {:.3f}\".format(lr_test_score[1]))\n",
    "print(\"F1: {:.3f}\".format(lr_test_score[2]))\n",
    "print(\"Accuracy: {:.3f}\".format(accuracy_score(lr_model.predict(standardized_X_test), y_test)))"
   ]
  },
  {
   "cell_type": "code",
   "execution_count": 51,
   "metadata": {},
   "outputs": [
    {
     "data": {
      "text/plain": [
       "GridSearchCV(cv=5, estimator=LogisticRegression(),\n",
       "             param_grid={'C': [0.001, 0.01, 0.1, 1, 10, 100],\n",
       "                         'class_weight': [None, 'balanced'],\n",
       "                         'penalty': ['l1', 'l2', 'elasticnet']},\n",
       "             scoring='f1_weighted')"
      ]
     },
     "execution_count": 51,
     "metadata": {},
     "output_type": "execute_result"
    }
   ],
   "source": [
    "parameters = {'penalty': ['l1', 'l2', 'elasticnet'], 'C': [0.001, 0.01, 0.1, 1, 10, 100], \n",
    "              'class_weight': [None, 'balanced']}\n",
    "lr_model = LogisticRegression()\n",
    "lr_grid_cv = GridSearchCV(lr_model, parameters, cv = 5, scoring = scoring_)\n",
    "lr_grid_cv.fit(standardized_X, y)"
   ]
  },
  {
   "cell_type": "code",
   "execution_count": 52,
   "metadata": {},
   "outputs": [
    {
     "name": "stdout",
     "output_type": "stream",
     "text": [
      "---Best parameters: {'C': 0.001, 'class_weight': 'balanced', 'penalty': 'l2'}---\n",
      "Precision: 0.698\n",
      "Recall: 0.706\n",
      "F1: 0.700\n",
      "Accuracy: 0.706\n"
     ]
    }
   ],
   "source": [
    "# get best dict\n",
    "lr_best_id = np.argmin(lr_grid_cv.cv_results_[\"rank_test_score\"])\n",
    "lr_best_dict = lr_grid_cv.cv_results_[\"params\"][lr_best_id]\n",
    "# get test_score\n",
    "lr_model = LogisticRegression(**lr_best_dict, random_state = RANDOM_STATE).fit(standardized_X, y)\n",
    "lr_test_score = precision_recall_fscore_support(y_test, lr_model.predict(standardized_X_test), average = 'weighted')\n",
    "print(\"---Best parameters: {}---\".format(lr_best_dict))\n",
    "print(\"Precision: {:.3f}\".format(lr_test_score[0]))\n",
    "print(\"Recall: {:.3f}\".format(lr_test_score[1]))\n",
    "print(\"F1: {:.3f}\".format(lr_test_score[2]))\n",
    "print(\"Accuracy: {:.3f}\".format(accuracy_score(lr_model.predict(standardized_X_test), y_test)))"
   ]
  },
  {
   "cell_type": "code",
   "execution_count": 77,
   "metadata": {},
   "outputs": [
    {
     "name": "stdout",
     "output_type": "stream",
     "text": [
      "[[-2.41762661e-02  3.67169668e-02 -6.10883930e-02  1.67567950e-02\n",
      "  -1.12742913e-02 -1.99464314e-02  7.95486215e-02  0.00000000e+00\n",
      "  -2.89205163e-02 -1.23247573e-02 -2.08746212e-02 -2.77139805e-02\n",
      "   1.44640602e-02 -1.36372499e-02 -2.93185818e-02 -5.07600332e-02\n",
      "  -2.00460763e-02  4.74328143e-04 -3.31928355e-02  3.53181132e-02\n",
      "   1.39360317e-02  1.23044936e-02 -1.41917757e-02 -5.18435955e-02\n",
      "  -8.82982237e-04  1.08799244e-01  1.32895051e-01  4.04540269e-02\n",
      "   6.77934062e-02  4.96050159e-02  7.35231145e-02  5.46670887e-02\n",
      "   1.94546728e-02  4.65617746e-02  3.94691395e-02  7.87730380e-02\n",
      "  -2.00057809e-02  2.30528095e-02 -9.75472564e-03  5.81493631e-03\n",
      "  -1.24790332e-02 -2.53984703e-02 -6.59954316e-02 -3.10954081e-03\n",
      "   2.51852693e-02]\n",
      " [ 3.07721213e-02 -4.23269134e-02 -2.76693316e-03 -5.54054871e-02\n",
      "   2.22047049e-02  2.05243891e-02 -3.14104270e-02  0.00000000e+00\n",
      "   2.87955404e-02 -1.52600321e-03  2.09053706e-02 -7.53261792e-03\n",
      "  -1.65142757e-02  1.03229284e-03  1.11687336e-02 -1.80253566e-02\n",
      "   5.84290494e-03  1.76306121e-02  3.04119774e-02  8.21746791e-03\n",
      "   1.15392151e-02 -7.36070982e-04  1.43782078e-02  2.02797520e-02\n",
      "   1.10892798e-02 -1.01373951e-02 -1.78946312e-02 -5.00997021e-03\n",
      "   1.80240078e-02  4.64270503e-02  4.36134441e-02  2.54277564e-02\n",
      "  -1.64135889e-02  1.54400529e-02  4.05565805e-02 -1.56526814e-03\n",
      "  -5.03931777e-03 -2.25454949e-02  1.35932908e-02  4.57991696e-03\n",
      "   2.91248047e-02  3.45113170e-02 -4.57076481e-03 -9.20586640e-03\n",
      "  -2.80475931e-02]\n",
      " [-6.59585527e-03  5.60994669e-03  6.38553261e-02  3.86486921e-02\n",
      "  -1.09304137e-02 -5.77957679e-04 -4.81381945e-02  0.00000000e+00\n",
      "   1.24975912e-04  1.38507605e-02 -3.07494328e-05  3.52465984e-02\n",
      "   2.05021555e-03  1.26049570e-02  1.81498481e-02  6.87853898e-02\n",
      "   1.42031714e-02 -1.81049402e-02  2.78085813e-03 -4.35355811e-02\n",
      "  -2.54752467e-02 -1.15684227e-02 -1.86432057e-04  3.15638434e-02\n",
      "  -1.02062975e-02 -9.86618492e-02 -1.15000419e-01 -3.54440566e-02\n",
      "  -8.58174141e-02 -9.60320662e-02 -1.17136559e-01 -8.00948451e-02\n",
      "  -3.04108393e-03 -6.20018275e-02 -8.00257200e-02 -7.72077699e-02\n",
      "   2.50450987e-02 -5.07314631e-04 -3.83856519e-03 -1.03948533e-02\n",
      "  -1.66457715e-02 -9.11284670e-03  7.05661964e-02  1.23154072e-02\n",
      "   2.86232376e-03]]\n"
     ]
    }
   ],
   "source": [
    "print(lr_model.coef_)"
   ]
  },
  {
   "cell_type": "code",
   "execution_count": 44,
   "metadata": {},
   "outputs": [],
   "source": [
    "lr_labels = lr_model.predict(standardized_X_test)\n",
    "self_test_result['predicted_label_lr'] = lr_labels"
   ]
  },
  {
   "cell_type": "code",
   "execution_count": 45,
   "metadata": {},
   "outputs": [
    {
     "data": {
      "image/png": "[encoded data removed]",
      "text/plain": [
       "<Figure size 432x288 with 2 Axes>"
      ]
     },
     "metadata": {
      "needs_background": "light"
     },
     "output_type": "display_data"
    }
   ],
   "source": [
    "plot_confusion_matrix(lr_model, standardized_X_test, y_test, cmap = plt.cm.Blues, normalize = \"true\")  \n",
    "plt.show() "
   ]
  },
  {
   "cell_type": "code",
   "execution_count": 46,
   "metadata": {},
   "outputs": [],
   "source": [
    "# comparePlot(self_test_result, \"AD_gold\", \"predicted_label_lr\")"
   ]
  },
  {
   "cell_type": "markdown",
   "metadata": {},
   "source": [
    "## Gradient Boosting"
   ]
  },
  {
   "cell_type": "code",
   "execution_count": 53,
   "metadata": {},
   "outputs": [
    {
     "name": "stdout",
     "output_type": "stream",
     "text": [
      "Precision: 0.679\n",
      "Recall: 0.676\n",
      "F1: 0.674\n",
      "Accuracy: 0.676\n"
     ]
    }
   ],
   "source": [
    "from sklearn.ensemble import GradientBoostingClassifier\n",
    "# Default model\n",
    "gb_model = GradientBoostingClassifier(random_state = RANDOM_STATE).fit(standardized_X, y)\n",
    "gb_test_score = precision_recall_fscore_support(y_test, gb_model.predict(standardized_X_test), average = 'weighted')\n",
    "print(\"Precision: {:.3f}\".format(gb_test_score[0]))\n",
    "print(\"Recall: {:.3f}\".format(gb_test_score[1]))\n",
    "print(\"F1: {:.3f}\".format(gb_test_score[2]))\n",
    "print(\"Accuracy: {:.3f}\".format(accuracy_score(gb_model.predict(standardized_X_test), y_test)))"
   ]
  },
  {
   "cell_type": "code",
   "execution_count": 48,
   "metadata": {},
   "outputs": [
    {
     "data": {
      "text/plain": [
       "GridSearchCV(cv=5, estimator=GradientBoostingClassifier(),\n",
       "             param_grid={'learning_rate': [0.001, 0.01, 0.1, 1, 10, 100],\n",
       "                         'loss': ['deviance', 'exponential'],\n",
       "                         'max_depth': [3, 5, 7, 10],\n",
       "                         'n_estimators': [100, 1000]},\n",
       "             scoring='f1_weighted')"
      ]
     },
     "execution_count": 48,
     "metadata": {},
     "output_type": "execute_result"
    }
   ],
   "source": [
    "parameters = {'learning_rate': [0.001, 0.01, 0.1, 1, 10, 100], 'n_estimators': [100, 1000], \n",
    "              'max_depth': [3, 5, 7, 10], 'loss': ['deviance', 'exponential']}\n",
    "gb_model = GradientBoostingClassifier()\n",
    "gb_grid_cv = GridSearchCV(gb_model, parameters, cv = 5, scoring = scoring_)\n",
    "gb_grid_cv.fit(standardized_X, y)"
   ]
  },
  {
   "cell_type": "code",
   "execution_count": 54,
   "metadata": {},
   "outputs": [
    {
     "name": "stdout",
     "output_type": "stream",
     "text": [
      "---Best parameters: {'learning_rate': 0.1, 'loss': 'deviance', 'max_depth': 3, 'n_estimators': 100}---\n",
      "Precision: 0.679\n",
      "Recall: 0.676\n",
      "F1: 0.674\n",
      "Accuracy: 0.676\n"
     ]
    }
   ],
   "source": [
    "# get best dict\n",
    "gb_best_id = np.argmin(gb_grid_cv.cv_results_[\"rank_test_score\"])\n",
    "gb_best_dict = gb_grid_cv.cv_results_[\"params\"][gb_best_id]\n",
    "# get test_score\n",
    "gb_model = GradientBoostingClassifier(**gb_best_dict, random_state = RANDOM_STATE).fit(standardized_X, y)\n",
    "gb_test_score = precision_recall_fscore_support(y_test, gb_model.predict(standardized_X_test), average = 'weighted')\n",
    "print(\"---Best parameters: {}---\".format(gb_best_dict))\n",
    "print(\"Precision: {:.3f}\".format(gb_test_score[0]))\n",
    "print(\"Recall: {:.3f}\".format(gb_test_score[1]))\n",
    "print(\"F1: {:.3f}\".format(gb_test_score[2]))\n",
    "print(\"Accuracy: {:.3f}\".format(accuracy_score(gb_model.predict(standardized_X_test), y_test)))"
   ]
  },
  {
   "cell_type": "code",
   "execution_count": 55,
   "metadata": {},
   "outputs": [],
   "source": [
    "gb_model = GradientBoostingClassifier(random_state = RANDOM_STATE).fit(standardized_X, y)\n",
    "gb_labels = gb_model.predict(standardized_X_test)\n",
    "self_test_result['predicted_label_gb'] = gb_labels"
   ]
  },
  {
   "cell_type": "code",
   "execution_count": 56,
   "metadata": {},
   "outputs": [
    {
     "data": {
      "image/png": "[encoded data removed]",
      "text/plain": [
       "<Figure size 432x288 with 2 Axes>"
      ]
     },
     "metadata": {
      "needs_background": "light"
     },
     "output_type": "display_data"
    }
   ],
   "source": [
    "plot_confusion_matrix(gb_model, standardized_X_test, y_test, cmap = plt.cm.Blues, normalize = \"true\")  \n",
    "plt.show() "
   ]
  },
  {
   "cell_type": "code",
   "execution_count": 57,
   "metadata": {},
   "outputs": [
    {
     "data": {
      "text/plain": [
       "{'ccp_alpha': 0.0,\n",
       " 'criterion': 'friedman_mse',\n",
       " 'init': None,\n",
       " 'learning_rate': 0.1,\n",
       " 'loss': 'deviance',\n",
       " 'max_depth': 3,\n",
       " 'max_features': None,\n",
       " 'max_leaf_nodes': None,\n",
       " 'min_impurity_decrease': 0.0,\n",
       " 'min_impurity_split': None,\n",
       " 'min_samples_leaf': 1,\n",
       " 'min_samples_split': 2,\n",
       " 'min_weight_fraction_leaf': 0.0,\n",
       " 'n_estimators': 100,\n",
       " 'n_iter_no_change': None,\n",
       " 'random_state': 2021,\n",
       " 'subsample': 1.0,\n",
       " 'tol': 0.0001,\n",
       " 'validation_fraction': 0.1,\n",
       " 'verbose': 0,\n",
       " 'warm_start': False}"
      ]
     },
     "execution_count": 57,
     "metadata": {},
     "output_type": "execute_result"
    }
   ],
   "source": [
    "gb_model.get_params()"
   ]
  },
  {
   "cell_type": "code",
   "execution_count": 58,
   "metadata": {},
   "outputs": [],
   "source": [
    "# comparePlot(self_test_result, \"AD_gold\", \"predicted_label_gb\")"
   ]
  },
  {
   "cell_type": "markdown",
   "metadata": {},
   "source": [
    "## XGBoosting"
   ]
  },
  {
   "cell_type": "code",
   "execution_count": 59,
   "metadata": {},
   "outputs": [
    {
     "name": "stdout",
     "output_type": "stream",
     "text": [
      "Precision: 0.694\n",
      "Recall: 0.683\n",
      "F1: 0.685\n",
      "Accuracy: 0.683\n"
     ]
    }
   ],
   "source": [
    "from xgboost import XGBClassifier\n",
    "xgb_model = XGBClassifier(random_state = RANDOM_STATE, verbosity = 0).fit(standardized_X, y)\n",
    "xgb_test_score = precision_recall_fscore_support(y_test, xgb_model.predict(standardized_X_test), average = 'weighted')\n",
    "print(\"Precision: {:.3f}\".format(xgb_test_score[0]))\n",
    "print(\"Recall: {:.3f}\".format(xgb_test_score[1]))\n",
    "print(\"F1: {:.3f}\".format(xgb_test_score[2]))\n",
    "print(\"Accuracy: {:.3f}\".format(accuracy_score(xgb_model.predict(standardized_X_test), y_test)))"
   ]
  },
  {
   "cell_type": "code",
   "execution_count": 60,
   "metadata": {
    "scrolled": true
   },
   "outputs": [
    {
     "data": {
      "text/plain": [
       "GridSearchCV(cv=5,\n",
       "             estimator=XGBClassifier(base_score=None, booster=None,\n",
       "                                     colsample_bylevel=None,\n",
       "                                     colsample_bynode=None,\n",
       "                                     colsample_bytree=None, gamma=None,\n",
       "                                     gpu_id=None, importance_type='gain',\n",
       "                                     interaction_constraints=None,\n",
       "                                     learning_rate=None, max_delta_step=None,\n",
       "                                     max_depth=None, min_child_weight=None,\n",
       "                                     missing=nan, monotone_constraints=None,\n",
       "                                     n_estimators=100, n_jobs...\n",
       "                                     scale_pos_weight=None, subsample=None,\n",
       "                                     tree_method=None, validate_parameters=None,\n",
       "                                     verbosity=None),\n",
       "             param_grid={'alpha': [0, 0.01, 0.1, 1],\n",
       "                         'booster': ['gbtree', 'gblinear'],\n",
       "                         'eta': [0.001, 0.3, 0.8], 'gamma': [0, 5, 10, 30],\n",
       "                         'lambda': [0.01, 0.1, 1], 'max_depth': [3, 6, 10],\n",
       "                         'sampling_method': ['uniform', 'gradient_based'],\n",
       "                         'subsample': [0.1, 0.5], 'verbosity': [0]},\n",
       "             scoring='f1_weighted')"
      ]
     },
     "execution_count": 60,
     "metadata": {},
     "output_type": "execute_result"
    }
   ],
   "source": [
    "parameters = {'booster': ['gbtree', 'gblinear'], 'eta': [0.001, 0.3, 0.8], 'gamma': [0, 5, 10, 30], \n",
    "              'max_depth': [3, 6, 10], 'subsample': [0.1, 0.5], 'sampling_method': ['uniform', 'gradient_based'],\n",
    "              'lambda': [0.01, 0.1, 1], 'alpha': [0, 0.01, 0.1, 1], 'verbosity': [0]}\n",
    "xgb_model = XGBClassifier()\n",
    "xgb_grid_cv = GridSearchCV(xgb_model, parameters, cv = 5, scoring = scoring_)\n",
    "xgb_grid_cv.fit(standardized_X, y)"
   ]
  },
  {
   "cell_type": "code",
   "execution_count": 73,
   "metadata": {},
   "outputs": [
    {
     "name": "stdout",
     "output_type": "stream",
     "text": [
      "---Best parameters: {'alpha': 0.01, 'booster': 'gblinear', 'eta': 0.8, 'gamma': 0, 'lambda': 0.01, 'max_depth': 3, 'sampling_method': 'uniform', 'subsample': 0.1, 'verbosity': 0}---\n",
      "Precision: 0.694\n",
      "Recall: 0.702\n",
      "F1: 0.693\n",
      "Accuracy: 0.702\n"
     ]
    }
   ],
   "source": [
    "# get best dict\n",
    "xgb_best_id = np.argmin(xgb_grid_cv.cv_results_[\"rank_test_score\"])\n",
    "xgb_best_dict = xgb_grid_cv.cv_results_[\"params\"][xgb_best_id]\n",
    "# get test_score\n",
    "xgb_model = XGBClassifier(**xgb_best_dict, random_state = RANDOM_STATE).fit(standardized_X, y)\n",
    "xgb_test_score = precision_recall_fscore_support(y_test, xgb_model.predict(standardized_X_test), average = 'weighted')\n",
    "print(\"---Best parameters: {}---\".format(xgb_best_dict))\n",
    "print(\"Precision: {:.3f}\".format(xgb_test_score[0]))\n",
    "print(\"Recall: {:.3f}\".format(xgb_test_score[1]))\n",
    "print(\"F1: {:.3f}\".format(xgb_test_score[2]))\n",
    "print(\"Accuracy: {:.3f}\".format(accuracy_score(xgb_model.predict(standardized_X_test), y_test)))"
   ]
  },
  {
   "cell_type": "code",
   "execution_count": 62,
   "metadata": {},
   "outputs": [],
   "source": [
    "# xgb_model = XGBClassifier(random_state = RANDOM_STATE, verbosity = 0).fit(standardized_X, y)\n",
    "xgb_labels = xgb_model.predict(standardized_X_test)\n",
    "self_test_result['predicted_label_xgb'] = xgb_labels"
   ]
  },
  {
   "cell_type": "code",
   "execution_count": 57,
   "metadata": {},
   "outputs": [],
   "source": [
    "# xgb_model.get_params()"
   ]
  },
  {
   "cell_type": "code",
   "execution_count": 64,
   "metadata": {},
   "outputs": [
    {
     "data": {
      "image/png": "[encoded data removed]",
      "text/plain": [
       "<Figure size 432x288 with 2 Axes>"
      ]
     },
     "metadata": {
      "needs_background": "light"
     },
     "output_type": "display_data"
    }
   ],
   "source": [
    "plot_confusion_matrix(xgb_model, standardized_X_test, y_test, cmap = plt.cm.Blues, normalize = \"true\")  \n",
    "plt.show() "
   ]
  },
  {
   "cell_type": "code",
   "execution_count": 58,
   "metadata": {},
   "outputs": [],
   "source": [
    "# comparePlot(self_test_result, \"AD_gold\", \"predicted_label_xgb\")"
   ]
  },
  {
   "cell_type": "markdown",
   "metadata": {},
   "source": [
    "## AdaBoosting"
   ]
  },
  {
   "cell_type": "code",
   "execution_count": 65,
   "metadata": {},
   "outputs": [
    {
     "name": "stdout",
     "output_type": "stream",
     "text": [
      "Precision: 0.687\n",
      "Recall: 0.691\n",
      "F1: 0.686\n",
      "Accuracy: 0.691\n"
     ]
    }
   ],
   "source": [
    "from sklearn.ensemble import AdaBoostClassifier\n",
    "ada_model = AdaBoostClassifier(random_state = RANDOM_STATE).fit(standardized_X, y)\n",
    "ada_test_score = precision_recall_fscore_support(y_test, ada_model.predict(standardized_X_test), average = 'weighted')\n",
    "print(\"Precision: {:.3f}\".format(ada_test_score[0]))\n",
    "print(\"Recall: {:.3f}\".format(ada_test_score[1]))\n",
    "print(\"F1: {:.3f}\".format(ada_test_score[2]))\n",
    "print(\"Accuracy: {:.3f}\".format(accuracy_score(ada_model.predict(standardized_X_test), y_test)))"
   ]
  },
  {
   "cell_type": "code",
   "execution_count": 66,
   "metadata": {
    "scrolled": true
   },
   "outputs": [
    {
     "data": {
      "text/plain": [
       "GridSearchCV(cv=5, estimator=AdaBoostClassifier(),\n",
       "             param_grid={'learning_rate': [0.001, 0.1, 1, 10],\n",
       "                         'n_estimators': [50, 100, 500]},\n",
       "             scoring='f1_weighted')"
      ]
     },
     "execution_count": 66,
     "metadata": {},
     "output_type": "execute_result"
    }
   ],
   "source": [
    "parameters = {'n_estimators': [50, 100, 500], 'learning_rate': [0.001, 0.1, 1, 10]}\n",
    "ada_model = AdaBoostClassifier()\n",
    "ada_grid_cv = GridSearchCV(ada_model, parameters, cv = 5, scoring = scoring_)\n",
    "ada_grid_cv.fit(standardized_X, y)"
   ]
  },
  {
   "cell_type": "code",
   "execution_count": 74,
   "metadata": {},
   "outputs": [
    {
     "name": "stdout",
     "output_type": "stream",
     "text": [
      "---Best parameters: {'learning_rate': 0.1, 'n_estimators': 500}---\n",
      "Precision: 0.718\n",
      "Recall: 0.718\n",
      "F1: 0.717\n",
      "Accuracy: 0.718\n"
     ]
    }
   ],
   "source": [
    "# get best dict\n",
    "ada_best_id = np.argmin(ada_grid_cv.cv_results_[\"rank_test_score\"])\n",
    "ada_best_dict = ada_grid_cv.cv_results_[\"params\"][ada_best_id]\n",
    "# get test_score\n",
    "ada_model = AdaBoostClassifier(**ada_best_dict, random_state = RANDOM_STATE).fit(standardized_X, y)\n",
    "ada_test_score = precision_recall_fscore_support(y_test, ada_model.predict(standardized_X_test), average = 'weighted')\n",
    "print(\"---Best parameters: {}---\".format(ada_best_dict))\n",
    "print(\"Precision: {:.3f}\".format(ada_test_score[0]))\n",
    "print(\"Recall: {:.3f}\".format(ada_test_score[1]))\n",
    "print(\"F1: {:.3f}\".format(ada_test_score[2]))\n",
    "print(\"Accuracy: {:.3f}\".format(accuracy_score(ada_model.predict(standardized_X_test), y_test)))"
   ]
  },
  {
   "cell_type": "code",
   "execution_count": 68,
   "metadata": {},
   "outputs": [],
   "source": [
    "ada_labels = ada_model.predict(standardized_X_test)\n",
    "self_test_result['predicted_label_ada'] = ada_labels"
   ]
  },
  {
   "cell_type": "code",
   "execution_count": 69,
   "metadata": {},
   "outputs": [
    {
     "data": {
      "image/png": "[encoded data removed]",
      "text/plain": [
       "<Figure size 432x288 with 2 Axes>"
      ]
     },
     "metadata": {
      "needs_background": "light"
     },
     "output_type": "display_data"
    }
   ],
   "source": [
    "plot_confusion_matrix(ada_model, standardized_X_test, y_test, cmap = plt.cm.Blues, normalize = \"true\")  \n",
    "plt.show() "
   ]
  },
  {
   "cell_type": "code",
   "execution_count": 70,
   "metadata": {},
   "outputs": [
    {
     "data": {
      "image/png": "[encoded data removed]",
      "text/plain": [
       "<Figure size 656x288 with 2 Axes>"
      ]
     },
     "metadata": {
      "needs_background": "light"
     },
     "output_type": "display_data"
    }
   ],
   "source": [
    "comparePlot(self_test_result, \"AD_gold\", \"predicted_label_ada\")"
   ]
  },
  {
   "cell_type": "markdown",
   "metadata": {},
   "source": [
    "# Performance check"
   ]
  },
  {
   "cell_type": "code",
   "execution_count": 71,
   "metadata": {},
   "outputs": [
    {
     "data": {
      "text/html": [
       "<div>\n",
       "<style scoped>\n",
       "    .dataframe tbody tr th:only-of-type {\n",
       "        vertical-align: middle;\n",
       "    }\n",
       "\n",
       "    .dataframe tbody tr th {\n",
       "        vertical-align: top;\n",
       "    }\n",
       "\n",
       "    .dataframe thead th {\n",
       "        text-align: right;\n",
       "    }\n",
       "</style>\n",
       "<table border=\"1\" class=\"dataframe\">\n",
       "  <thead>\n",
       "    <tr style=\"text-align: right;\">\n",
       "      <th></th>\n",
       "      <th>AD_gold</th>\n",
       "      <th>RACE_SELF</th>\n",
       "      <th>SCHLYRS</th>\n",
       "      <th>AGE</th>\n",
       "      <th>SEX</th>\n",
       "      <th>LIVING</th>\n",
       "      <th>SMOKE</th>\n",
       "      <th>SER7</th>\n",
       "      <th>PROXY</th>\n",
       "      <th>SHLT</th>\n",
       "      <th>...</th>\n",
       "      <th>ARTHR</th>\n",
       "      <th>TSNE1</th>\n",
       "      <th>TSNE2</th>\n",
       "      <th>predicted_label_knn</th>\n",
       "      <th>predicted_label_rf</th>\n",
       "      <th>predicted_label_svm</th>\n",
       "      <th>predicted_label_lr</th>\n",
       "      <th>predicted_label_gb</th>\n",
       "      <th>predicted_label_xgb</th>\n",
       "      <th>predicted_label_ada</th>\n",
       "    </tr>\n",
       "  </thead>\n",
       "  <tbody>\n",
       "    <tr>\n",
       "      <th>0</th>\n",
       "      <td>0</td>\n",
       "      <td>0</td>\n",
       "      <td>17</td>\n",
       "      <td>73</td>\n",
       "      <td>0</td>\n",
       "      <td>0</td>\n",
       "      <td>0</td>\n",
       "      <td>5</td>\n",
       "      <td>0</td>\n",
       "      <td>2</td>\n",
       "      <td>...</td>\n",
       "      <td>0</td>\n",
       "      <td>-11.617128</td>\n",
       "      <td>-13.122900</td>\n",
       "      <td>0</td>\n",
       "      <td>0</td>\n",
       "      <td>0</td>\n",
       "      <td>0</td>\n",
       "      <td>0</td>\n",
       "      <td>0</td>\n",
       "      <td>0</td>\n",
       "    </tr>\n",
       "    <tr>\n",
       "      <th>1</th>\n",
       "      <td>0</td>\n",
       "      <td>0</td>\n",
       "      <td>17</td>\n",
       "      <td>77</td>\n",
       "      <td>0</td>\n",
       "      <td>0</td>\n",
       "      <td>0</td>\n",
       "      <td>4</td>\n",
       "      <td>0</td>\n",
       "      <td>3</td>\n",
       "      <td>...</td>\n",
       "      <td>0</td>\n",
       "      <td>-13.580361</td>\n",
       "      <td>-13.397610</td>\n",
       "      <td>0</td>\n",
       "      <td>0</td>\n",
       "      <td>0</td>\n",
       "      <td>0</td>\n",
       "      <td>0</td>\n",
       "      <td>0</td>\n",
       "      <td>0</td>\n",
       "    </tr>\n",
       "    <tr>\n",
       "      <th>2</th>\n",
       "      <td>0</td>\n",
       "      <td>0</td>\n",
       "      <td>17</td>\n",
       "      <td>79</td>\n",
       "      <td>0</td>\n",
       "      <td>0</td>\n",
       "      <td>0</td>\n",
       "      <td>5</td>\n",
       "      <td>0</td>\n",
       "      <td>2</td>\n",
       "      <td>...</td>\n",
       "      <td>0</td>\n",
       "      <td>-13.051303</td>\n",
       "      <td>-14.508873</td>\n",
       "      <td>0</td>\n",
       "      <td>0</td>\n",
       "      <td>0</td>\n",
       "      <td>0</td>\n",
       "      <td>0</td>\n",
       "      <td>0</td>\n",
       "      <td>0</td>\n",
       "    </tr>\n",
       "    <tr>\n",
       "      <th>3</th>\n",
       "      <td>2</td>\n",
       "      <td>1</td>\n",
       "      <td>3</td>\n",
       "      <td>73</td>\n",
       "      <td>0</td>\n",
       "      <td>1</td>\n",
       "      <td>1</td>\n",
       "      <td>0</td>\n",
       "      <td>0</td>\n",
       "      <td>2</td>\n",
       "      <td>...</td>\n",
       "      <td>1</td>\n",
       "      <td>4.822290</td>\n",
       "      <td>-17.997343</td>\n",
       "      <td>2</td>\n",
       "      <td>2</td>\n",
       "      <td>2</td>\n",
       "      <td>2</td>\n",
       "      <td>2</td>\n",
       "      <td>2</td>\n",
       "      <td>1</td>\n",
       "    </tr>\n",
       "    <tr>\n",
       "      <th>4</th>\n",
       "      <td>2</td>\n",
       "      <td>1</td>\n",
       "      <td>3</td>\n",
       "      <td>79</td>\n",
       "      <td>0</td>\n",
       "      <td>1</td>\n",
       "      <td>1</td>\n",
       "      <td>0</td>\n",
       "      <td>0</td>\n",
       "      <td>5</td>\n",
       "      <td>...</td>\n",
       "      <td>1</td>\n",
       "      <td>9.613078</td>\n",
       "      <td>1.720720</td>\n",
       "      <td>2</td>\n",
       "      <td>2</td>\n",
       "      <td>1</td>\n",
       "      <td>2</td>\n",
       "      <td>2</td>\n",
       "      <td>2</td>\n",
       "      <td>2</td>\n",
       "    </tr>\n",
       "  </tbody>\n",
       "</table>\n",
       "<p>5 rows × 56 columns</p>\n",
       "</div>"
      ],
      "text/plain": [
       "   AD_gold  RACE_SELF  SCHLYRS  AGE  SEX  LIVING  SMOKE  SER7  PROXY  SHLT  \\\n",
       "0        0          0       17   73    0       0      0     5      0     2   \n",
       "1        0          0       17   77    0       0      0     4      0     3   \n",
       "2        0          0       17   79    0       0      0     5      0     2   \n",
       "3        2          1        3   73    0       1      1     0      0     2   \n",
       "4        2          1        3   79    0       1      1     0      0     5   \n",
       "\n",
       "   ...  ARTHR      TSNE1      TSNE2  predicted_label_knn  predicted_label_rf  \\\n",
       "0  ...      0 -11.617128 -13.122900                    0                   0   \n",
       "1  ...      0 -13.580361 -13.397610                    0                   0   \n",
       "2  ...      0 -13.051303 -14.508873                    0                   0   \n",
       "3  ...      1   4.822290 -17.997343                    2                   2   \n",
       "4  ...      1   9.613078   1.720720                    2                   2   \n",
       "\n",
       "   predicted_label_svm  predicted_label_lr  predicted_label_gb  \\\n",
       "0                    0                   0                   0   \n",
       "1                    0                   0                   0   \n",
       "2                    0                   0                   0   \n",
       "3                    2                   2                   2   \n",
       "4                    1                   2                   2   \n",
       "\n",
       "   predicted_label_xgb  predicted_label_ada  \n",
       "0                    0                    0  \n",
       "1                    0                    0  \n",
       "2                    0                    0  \n",
       "3                    2                    1  \n",
       "4                    2                    2  \n",
       "\n",
       "[5 rows x 56 columns]"
      ]
     },
     "execution_count": 71,
     "metadata": {},
     "output_type": "execute_result"
    }
   ],
   "source": [
    "self_test_result.head()"
   ]
  },
  {
   "cell_type": "code",
   "execution_count": 72,
   "metadata": {},
   "outputs": [],
   "source": [
    "# Output for analysis\n",
    "self_test_result.to_csv(r'/home/mingzhoufu/Dementia_classification/classfication_outputs.csv')"
   ]
  },
  {
   "cell_type": "markdown",
   "metadata": {},
   "source": [
    "### This is an additional step to check for the Expert model:"
   ]
  },
  {
   "cell_type": "code",
   "execution_count": 75,
   "metadata": {},
   "outputs": [
    {
     "data": {
      "text/html": [
       "<div>\n",
       "<style scoped>\n",
       "    .dataframe tbody tr th:only-of-type {\n",
       "        vertical-align: middle;\n",
       "    }\n",
       "\n",
       "    .dataframe tbody tr th {\n",
       "        vertical-align: top;\n",
       "    }\n",
       "\n",
       "    .dataframe thead th {\n",
       "        text-align: right;\n",
       "    }\n",
       "</style>\n",
       "<table border=\"1\" class=\"dataframe\">\n",
       "  <thead>\n",
       "    <tr style=\"text-align: right;\">\n",
       "      <th></th>\n",
       "      <th>X</th>\n",
       "      <th>AD_gold</th>\n",
       "      <th>RACE_SELF</th>\n",
       "      <th>SCHLYRS</th>\n",
       "      <th>AGE</th>\n",
       "      <th>SEX</th>\n",
       "      <th>LIVING</th>\n",
       "      <th>SMOKE</th>\n",
       "      <th>SER7</th>\n",
       "      <th>PROXY</th>\n",
       "      <th>...</th>\n",
       "      <th>TSNE1</th>\n",
       "      <th>TSNE2</th>\n",
       "      <th>predicted_label_knn</th>\n",
       "      <th>predicted_label_rf</th>\n",
       "      <th>predicted_label_svm</th>\n",
       "      <th>predicted_label_lr</th>\n",
       "      <th>predicted_label_gb</th>\n",
       "      <th>predicted_label_xgb</th>\n",
       "      <th>predicted_label_ada</th>\n",
       "      <th>predicted_label_expert</th>\n",
       "    </tr>\n",
       "  </thead>\n",
       "  <tbody>\n",
       "    <tr>\n",
       "      <th>0</th>\n",
       "      <td>0</td>\n",
       "      <td>0</td>\n",
       "      <td>0</td>\n",
       "      <td>17</td>\n",
       "      <td>73</td>\n",
       "      <td>0</td>\n",
       "      <td>0</td>\n",
       "      <td>0</td>\n",
       "      <td>5</td>\n",
       "      <td>0</td>\n",
       "      <td>...</td>\n",
       "      <td>-11.617128</td>\n",
       "      <td>-13.122900</td>\n",
       "      <td>0</td>\n",
       "      <td>0</td>\n",
       "      <td>0</td>\n",
       "      <td>0</td>\n",
       "      <td>0</td>\n",
       "      <td>0</td>\n",
       "      <td>0</td>\n",
       "      <td>0</td>\n",
       "    </tr>\n",
       "    <tr>\n",
       "      <th>1</th>\n",
       "      <td>1</td>\n",
       "      <td>0</td>\n",
       "      <td>0</td>\n",
       "      <td>17</td>\n",
       "      <td>77</td>\n",
       "      <td>0</td>\n",
       "      <td>0</td>\n",
       "      <td>0</td>\n",
       "      <td>4</td>\n",
       "      <td>0</td>\n",
       "      <td>...</td>\n",
       "      <td>-13.580361</td>\n",
       "      <td>-13.397610</td>\n",
       "      <td>0</td>\n",
       "      <td>0</td>\n",
       "      <td>0</td>\n",
       "      <td>0</td>\n",
       "      <td>0</td>\n",
       "      <td>0</td>\n",
       "      <td>0</td>\n",
       "      <td>0</td>\n",
       "    </tr>\n",
       "    <tr>\n",
       "      <th>2</th>\n",
       "      <td>2</td>\n",
       "      <td>0</td>\n",
       "      <td>0</td>\n",
       "      <td>17</td>\n",
       "      <td>79</td>\n",
       "      <td>0</td>\n",
       "      <td>0</td>\n",
       "      <td>0</td>\n",
       "      <td>5</td>\n",
       "      <td>0</td>\n",
       "      <td>...</td>\n",
       "      <td>-13.051303</td>\n",
       "      <td>-14.508873</td>\n",
       "      <td>0</td>\n",
       "      <td>0</td>\n",
       "      <td>0</td>\n",
       "      <td>0</td>\n",
       "      <td>0</td>\n",
       "      <td>0</td>\n",
       "      <td>0</td>\n",
       "      <td>0</td>\n",
       "    </tr>\n",
       "    <tr>\n",
       "      <th>3</th>\n",
       "      <td>3</td>\n",
       "      <td>2</td>\n",
       "      <td>1</td>\n",
       "      <td>3</td>\n",
       "      <td>73</td>\n",
       "      <td>0</td>\n",
       "      <td>1</td>\n",
       "      <td>1</td>\n",
       "      <td>0</td>\n",
       "      <td>0</td>\n",
       "      <td>...</td>\n",
       "      <td>4.822290</td>\n",
       "      <td>-17.997343</td>\n",
       "      <td>2</td>\n",
       "      <td>2</td>\n",
       "      <td>2</td>\n",
       "      <td>2</td>\n",
       "      <td>2</td>\n",
       "      <td>2</td>\n",
       "      <td>1</td>\n",
       "      <td>1</td>\n",
       "    </tr>\n",
       "    <tr>\n",
       "      <th>4</th>\n",
       "      <td>4</td>\n",
       "      <td>2</td>\n",
       "      <td>1</td>\n",
       "      <td>3</td>\n",
       "      <td>79</td>\n",
       "      <td>0</td>\n",
       "      <td>1</td>\n",
       "      <td>1</td>\n",
       "      <td>0</td>\n",
       "      <td>0</td>\n",
       "      <td>...</td>\n",
       "      <td>9.613078</td>\n",
       "      <td>1.720720</td>\n",
       "      <td>2</td>\n",
       "      <td>2</td>\n",
       "      <td>1</td>\n",
       "      <td>2</td>\n",
       "      <td>2</td>\n",
       "      <td>2</td>\n",
       "      <td>2</td>\n",
       "      <td>1</td>\n",
       "    </tr>\n",
       "  </tbody>\n",
       "</table>\n",
       "<p>5 rows × 58 columns</p>\n",
       "</div>"
      ],
      "text/plain": [
       "   X  AD_gold  RACE_SELF  SCHLYRS  AGE  SEX  LIVING  SMOKE  SER7  PROXY  ...  \\\n",
       "0  0        0          0       17   73    0       0      0     5      0  ...   \n",
       "1  1        0          0       17   77    0       0      0     4      0  ...   \n",
       "2  2        0          0       17   79    0       0      0     5      0  ...   \n",
       "3  3        2          1        3   73    0       1      1     0      0  ...   \n",
       "4  4        2          1        3   79    0       1      1     0      0  ...   \n",
       "\n",
       "       TSNE1      TSNE2  predicted_label_knn  predicted_label_rf  \\\n",
       "0 -11.617128 -13.122900                    0                   0   \n",
       "1 -13.580361 -13.397610                    0                   0   \n",
       "2 -13.051303 -14.508873                    0                   0   \n",
       "3   4.822290 -17.997343                    2                   2   \n",
       "4   9.613078   1.720720                    2                   2   \n",
       "\n",
       "   predicted_label_svm  predicted_label_lr  predicted_label_gb  \\\n",
       "0                    0                   0                   0   \n",
       "1                    0                   0                   0   \n",
       "2                    0                   0                   0   \n",
       "3                    2                   2                   2   \n",
       "4                    1                   2                   2   \n",
       "\n",
       "   predicted_label_xgb  predicted_label_ada  predicted_label_expert  \n",
       "0                    0                    0                       0  \n",
       "1                    0                    0                       0  \n",
       "2                    0                    0                       0  \n",
       "3                    2                    1                       1  \n",
       "4                    2                    2                       1  \n",
       "\n",
       "[5 rows x 58 columns]"
      ]
     },
     "execution_count": 75,
     "metadata": {},
     "output_type": "execute_result"
    }
   ],
   "source": [
    "expert_check = pd.read_csv(\"/home/mingzhoufu/Dementia_classification/output_testing2.csv\")\n",
    "expert_check.head()"
   ]
  },
  {
   "cell_type": "code",
   "execution_count": 76,
   "metadata": {},
   "outputs": [
    {
     "name": "stdout",
     "output_type": "stream",
     "text": [
      "---Predicted value: {The Expert Model Classification}---\n",
      "Precision: 0.667\n",
      "Recall: 0.664\n",
      "F1: 0.663\n",
      "Accuracy: 0.664\n"
     ]
    }
   ],
   "source": [
    "expert_test_score = precision_recall_fscore_support(y_test, expert_check['predicted_label_expert'], average = 'weighted')\n",
    "print(\"---Predicted value: {The Expert Model Classification}---\")\n",
    "print(\"Precision: {:.3f}\".format(expert_test_score[0]))\n",
    "print(\"Recall: {:.3f}\".format(expert_test_score[1]))\n",
    "print(\"F1: {:.3f}\".format(expert_test_score[2]))\n",
    "print(\"Accuracy: {:.3f}\".format(accuracy_score(expert_check['predicted_label_expert'], y_test)))"
   ]
  },
  {
   "cell_type": "code",
   "execution_count": null,
   "metadata": {},
   "outputs": [],
   "source": []
  }
 ],
 "metadata": {
  "kernelspec": {
   "display_name": "Python 3",
   "language": "python",
   "name": "python3"
  },
  "language_info": {
   "codemirror_mode": {
    "name": "ipython",
    "version": 3
   },
   "file_extension": ".py",
   "mimetype": "text/x-python",
   "name": "python",
   "nbconvert_exporter": "python",
   "pygments_lexer": "ipython3",
   "version": "3.8.5"
  }
 },
 "nbformat": 4,
 "nbformat_minor": 4
}
